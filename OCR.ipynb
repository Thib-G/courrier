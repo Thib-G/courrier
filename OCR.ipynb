{
 "cells": [
  {
   "cell_type": "code",
   "execution_count": 1,
   "metadata": {},
   "outputs": [],
   "source": [
    "from wand.image import Image as WImage\n",
    "from PIL import Image as PI\n",
    "import pyocr\n",
    "import pyocr.builders\n",
    "import io\n",
    "import os\n",
    "from pathlib import Path\n",
    "import django\n",
    "from django.db import transaction\n",
    "\n",
    "path = Path.joinpath(Path.cwd(), 'pdf')\n",
    "os.environ['DJANGO_SETTINGS_MODULE'] = 'courrier.settings'\n",
    "django.setup()\n",
    "\n",
    "from ocr.models import OcrDocument, OcrPage"
   ]
  },
  {
   "cell_type": "code",
   "execution_count": 2,
   "metadata": {},
   "outputs": [
    {
     "name": "stderr",
     "output_type": "stream",
     "text": [
      "Unsupported version [0.0.0]\n"
     ]
    }
   ],
   "source": [
    "tool = pyocr.get_available_tools()[0]\n",
    "lang = 'fra'"
   ]
  },
  {
   "cell_type": "code",
   "execution_count": 3,
   "metadata": {},
   "outputs": [],
   "source": [
    "def extract_text(file):\n",
    "    \"\"\"Extract the text from the file path to a list of text\"\"\"\n",
    "    req_image = []\n",
    "    text_list = []\n",
    "    image_pdf = WImage(filename=file,\n",
    "                 resolution=300)\n",
    "    image_jpeg = image_pdf.convert('jpeg')\n",
    "    \n",
    "    for img in image_jpeg.sequence:\n",
    "        img_page = WImage(image=img)\n",
    "        req_image.append(img_page.make_blob('jpeg'))\n",
    "\n",
    "    for img in req_image:\n",
    "        txt = tool.image_to_string(\n",
    "            PI.open(io.BytesIO(img)),\n",
    "            lang=lang,\n",
    "            builder=pyocr.builders.TextBuilder()\n",
    "        )\n",
    "        text_list.append(txt)\n",
    "    return text_list\n",
    "        "
   ]
  },
  {
   "cell_type": "code",
   "execution_count": null,
   "metadata": {},
   "outputs": [],
   "source": [
    "pdf_dir = path\n",
    "pdfs = [{'file': file, 'texts': extract_text(str(Path.joinpath(path, file)))} for file in os.listdir(pdf_dir) if file.endswith('.pdf')]"
   ]
  },
  {
   "cell_type": "code",
   "execution_count": null,
   "metadata": {},
   "outputs": [],
   "source": [
    "#from IPython.core.display import display, HTML\n",
    "#display(HTML('\\n'.join(\n",
    "#    f\"<h1>{pdf['file']}</h1>\" +\n",
    "#    ''.join(f\"<h2>Page {i + 1}</h2><p>{p}</p>\".replace('\\n', '<br>') for i, p in enumerate(pdf['texts']))\n",
    "#    for pdf in pdfs\n",
    "#)))"
   ]
  },
  {
   "cell_type": "code",
   "execution_count": null,
   "metadata": {},
   "outputs": [],
   "source": [
    "for pdf in pdfs:\n",
    "    with transaction.atomic():\n",
    "        doc = OcrDocument(filename=pdf['file'])\n",
    "        doc.save()\n",
    "        OcrPage.objects.bulk_create([OcrPage(page_num=i+1, text=text, ocr_document=doc) for i, text in enumerate(pdf['texts'])])"
   ]
  },
  {
   "cell_type": "code",
   "execution_count": null,
   "metadata": {},
   "outputs": [],
   "source": []
  },
  {
   "cell_type": "code",
   "execution_count": null,
   "metadata": {},
   "outputs": [],
   "source": []
  },
  {
   "cell_type": "code",
   "execution_count": null,
   "metadata": {},
   "outputs": [],
   "source": []
  },
  {
   "cell_type": "code",
   "execution_count": null,
   "metadata": {},
   "outputs": [],
   "source": []
  },
  {
   "cell_type": "code",
   "execution_count": null,
   "metadata": {},
   "outputs": [],
   "source": []
  },
  {
   "cell_type": "code",
   "execution_count": null,
   "metadata": {},
   "outputs": [],
   "source": []
  },
  {
   "cell_type": "code",
   "execution_count": null,
   "metadata": {},
   "outputs": [],
   "source": []
  }
 ],
 "metadata": {
  "kernelspec": {
   "display_name": "Python 3",
   "language": "python",
   "name": "python3"
  },
  "language_info": {
   "codemirror_mode": {
    "name": "ipython",
    "version": 3
   },
   "file_extension": ".py",
   "mimetype": "text/x-python",
   "name": "python",
   "nbconvert_exporter": "python",
   "pygments_lexer": "ipython3",
   "version": "3.6.5"
  }
 },
 "nbformat": 4,
 "nbformat_minor": 2
}
